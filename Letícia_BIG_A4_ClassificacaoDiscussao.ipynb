{
  "nbformat": 4,
  "nbformat_minor": 0,
  "metadata": {
    "colab": {
      "provenance": [],
      "collapsed_sections": [],
      "include_colab_link": true
    },
    "kernelspec": {
      "name": "python3",
      "display_name": "Python 3"
    }
  },
  "cells": [
    {
      "cell_type": "markdown",
      "metadata": {
        "id": "view-in-github",
        "colab_type": "text"
      },
      "source": [
        "<a href=\"https://colab.research.google.com/github/leticialandim/python_leticia/blob/master/Let%C3%ADcia_BIG_A4_ClassificacaoDiscussao.ipynb\" target=\"_parent\"><img src=\"https://colab.research.google.com/assets/colab-badge.svg\" alt=\"Open In Colab\"/></a>"
      ]
    },
    {
      "cell_type": "markdown",
      "metadata": {
        "id": "J3LMBfpeHTwb"
      },
      "source": [
        "<head>\n",
        "  <meta name=\"author\" content=\"Rogério de Oliveira\">\n",
        "  <meta institution=\"author\" content=\"Universidade Presbiteriana Mackenzie\">\n",
        "</head>\n",
        "\n",
        "<img src=\"http://meusite.mackenzie.br/rogerio/mackenzie_logo/UPM.2_horizontal_vermelho.jpg\" width=300, align=\"right\">\n",
        "<!-- <h1 align=left><font size = 6, style=\"color:rgb(200,0,0)\"> optional title </font></h1> -->\n",
        "NOME: LETICIA ALVES PAES LANDIM\n",
        "\n",
        "MATRÍCULA: 10992059309\n",
        "\n",
        "EAD_MACKENZIE_HIGIENOPOLIS\n",
        "\n",
        "Link do meu colab: https://colab.research.google.com/drive/1yysEC4tAfVnjnriKWcR0XxDGmHEwSJ0U?usp=sharing"
      ]
    },
    {
      "cell_type": "markdown",
      "metadata": {
        "id": "zQX8WQPeHTwc"
      },
      "source": [
        "# **Tarefa de Aprofundamento 4** \n",
        "## Discussão do CASO: Controle de Qualidade de Peças de uma Indústria\n",
        "\n",
        "<br>\n",
        "<br>\n",
        "<br>\n",
        "\n",
        "Com base na atividade *Tarefa de Aprofundamento 3*, **Pesquise e Discuta apenas uma** das perguntas a seguir.\n"
      ]
    },
    {
      "cell_type": "markdown",
      "metadata": {
        "id": "nGZH-j05q8WZ"
      },
      "source": [
        "### 1. Na Tarefa de Aprofundamento 3 empregamos apenas a Acuracidade dos modelos como critério de seleção do melhor modelo. Dê um exemplo da limitação dessa abordagem e que solução você sugeriria para contornar essa limitação. "
      ]
    },
    {
      "cell_type": "markdown",
      "metadata": {
        "id": "Oar--2gn9EJ0"
      },
      "source": [
        "*Sua resposta aqui em no máximo 20 linhas.*"
      ]
    },
    {
      "cell_type": "markdown",
      "metadata": {
        "id": "p32U1tt_9XBd"
      },
      "source": [
        "### 2. Na Tarefa de Aprofundamento 3 você encontra um modelo de Árvore de Decisão métricas de desempenho do modelo todas muito superiores ao modelo de Regressão Logística e KVizinhos Mais Próximos. Um colega então faz a seguinte afirmação *Modelos de Árvores de Decisão são mais robustos e **sempre** fornecem resultados melhores que modelos mais simples em um mesmo conjunto de dados*. Esse colega está correto na sua afirmação? Como você responderia a ele?"
      ]
    },
    {
      "cell_type": "markdown",
      "metadata": {
        "id": "-tdb6x3s9XBd"
      },
      "source": [
        "***R2:*** Não está correto. Pois, nenhum dos algoritmos é melhor do que o outro e o desempenho superior do algoratimo é frequentemente creditado à natureza dos dados que estão sendo trabalhados. os seguintes criterios devem ser levados em consideraão:\n",
        "Interpretabilidade, modelos de Arvore de decisão são mais interpretável que regressão Logística;\n",
        "Limites de decisão, modelos de Arvore de decisão dividem o espaço em espaços menores, já regressão Logística tem Limite de decisão linear e único;\n",
        "Facilidade de tomada de decisão, modelos de Arvore de decisão lidam automaticamente com a tomada de decisões, já  regressão Logística tem um limite de decisão deve ser definido;\n",
        "Levar em conta também,  Escalabilidade, pois, em modelos de Arvore de decisão podem ser treinado em um pequeno conjunto de treinamento, onde na Regressão Logística e KVizinhos Mais Próximos, requer um conjunto de treinamento grande o suficiente. \n",
        "Assim, não existe melhou pu pior, e sim, entender qual melhor aplicavel para o desenvolvimento que buscamos."
      ]
    },
    {
      "cell_type": "markdown",
      "metadata": {
        "id": "xR8J3aMB-TjC"
      },
      "source": [
        "## Referências\n",
        "http://www.coordest.ufpr.br/wp-content/uploads/2018/12/TCC_DanielEricson.pdf"
      ]
    }
  ]
}